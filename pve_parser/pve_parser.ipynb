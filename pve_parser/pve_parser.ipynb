{
 "cells": [
  {
   "cell_type": "code",
   "execution_count": 1,
   "id": "empty-forty",
   "metadata": {},
   "outputs": [
    {
     "name": "stdout",
     "output_type": "stream",
     "text": [
      "C:\\Users\\lcvri\\Downloads\\pve_parser\n"
     ]
    }
   ],
   "source": [
    "% cd C:/Users/lcvri/Downloads/pve_parser"
   ]
  },
  {
   "cell_type": "code",
   "execution_count": 2,
   "id": "legendary-rachel",
   "metadata": {},
   "outputs": [],
   "source": [
    "import json\n",
    "import pandas as pd\n",
    "pd.set_option(\"display.max_colwidth\", None)\n",
    "import camelot\n",
    "import pve_parser"
   ]
  },
  {
   "cell_type": "code",
   "execution_count": 8,
   "id": "reduced-highway",
   "metadata": {},
   "outputs": [],
   "source": [
    "path = 'programma-van-eisen-hoger-onderwijs.pdf'\n",
    "# tables_obo  = camelot.read_pdf(path, pages='168-174', strip_text='\\n')\n",
    "# tables_obov = camelot.read_pdf(path, pages='175-185', strip_text='\\n')\n",
    "tables_anbs = camelot.read_pdf(path, pages='188-196', strip_text='\\n')"
   ]
  },
  {
   "cell_type": "code",
   "execution_count": 4,
   "id": "functioning-response",
   "metadata": {},
   "outputs": [],
   "source": [
    "eig_obo = dict(\n",
    "    encoding = \"latin1\",\n",
    "    separator = \"|\",\n",
    "    date_format = \"%Y%m%d\"\n",
    ")\n",
    "eig_anbs = dict(\n",
    "    encoding = \"utf8\",\n",
    "    separator = \"|\",\n",
    "    date_format = \"%Y%m%d\"\n",
    ")\n",
    "\n",
    "tablenames_obo = dict(\n",
    "    VLP = \"Voorlooprecord\",\n",
    "    PER = \"Persoongegevens\",\n",
    "    NAT = \"Nationaliteitsgegevens\",\n",
    "    VBT = \"Verblijfstitelgegevens\",\n",
    "    VBV = \"Verblijfsvergunninggegevens\",\n",
    "    ISG = \"Inschrijvings-(deelname-)gegevens\",\n",
    "    GRD = \"Graad-(resultaat-)gegevens\",\n",
    "    CTR = \"Controletotalen\",\n",
    ")\n",
    "tablenames_obov = dict(\n",
    "    VLP = \"Voorlooprecord\",\n",
    "    PER = \"Wijziging in persoonsgegevens\",\n",
    "    NAT = \"Wijziging in de nationaliteit\",\n",
    "    VBT = \"Wijziging in de verblijfstitel\",\n",
    "    VBV = \"Wijziging in de verblijfvergunning\",\n",
    "    ISG = \"Wijziging in inschrijvings-(deelname-)gegevens\",\n",
    "    GRD = \"Wijziging in graad-(resultaat-)gegevens\",\n",
    "    SLR = \"Sluitrecord\",\n",
    ")\n",
    "tablenames_anbs = dict(\n",
    "    VLP = \"Voorlooprecord\",\n",
    "    BLB = \"Bekostigingsloopbaan student\",\n",
    "    BRD = \"Bekostigingsresultaat deelname\",\n",
    "    BRR = \"Bekostigingsresultaatresultaat\",\n",
    "    SLR = \"Sluitrecord\",\n",
    ")"
   ]
  },
  {
   "cell_type": "code",
   "execution_count": 5,
   "id": "wired-seeker",
   "metadata": {},
   "outputs": [],
   "source": [
    "def process_camelot_output(list_of_tables):\n",
    "    new_tables = pve_parser.process_list_of_tables(list_of_tables)\n",
    "    new_tables = [pve_parser.extend_table(df) for df in new_tables]\n",
    "    new_tables = [\n",
    "        df.assign(verplicht=pve_parser.boolify(df.verplicht))\n",
    "        if 'verplicht' in df.columns else df\n",
    "        for df in new_tables\n",
    "    ]\n",
    "    return new_tables\n",
    "\n",
    "def create_json_data(tables, tablenames, eigenschappen):\n",
    "    new_tables = process_camelot_output(tables)\n",
    "    velden = {k.lower():new_tables[i].to_dict(orient='index') for i,k in enumerate(tablenames.keys())}\n",
    "\n",
    "    data = dict(\n",
    "        eigenschappen = eigenschappen,\n",
    "        recordsoorten = {k.lower():v for k,v in tablenames.items()},\n",
    "        velden = velden,\n",
    "    )\n",
    "    return data"
   ]
  },
  {
   "cell_type": "code",
   "execution_count": 13,
   "id": "adjacent-mattress",
   "metadata": {},
   "outputs": [],
   "source": [
    "tables_anbs[2].df.iloc[0,2] = 'Verplicht'\n",
    "tables_anbs[2].df.iloc[0,3] = 'Definitie/toelichting'"
   ]
  },
  {
   "cell_type": "code",
   "execution_count": 14,
   "id": "supported-productivity",
   "metadata": {},
   "outputs": [],
   "source": [
    "json_data = create_json_data(tables_anbs, tablenames_anbs, eig_anbs)\n",
    "# json_data = create_json_data(tables_obov, tablenames_obov, eig_obo)"
   ]
  },
  {
   "cell_type": "code",
   "execution_count": 15,
   "id": "approximate-stable",
   "metadata": {},
   "outputs": [],
   "source": [
    "file = 'tabledefs.anbs.1.json'\n",
    "# file = 'tabledefs.obov.1.json'\n",
    "with open(file, 'w', encoding='utf8') as f:\n",
    "    f.write(json.dumps(json_data, indent=4, ))"
   ]
  }
 ],
 "metadata": {
  "kernelspec": {
   "display_name": "Python 3",
   "language": "python",
   "name": "python3"
  },
  "language_info": {
   "codemirror_mode": {
    "name": "ipython",
    "version": 3
   },
   "file_extension": ".py",
   "mimetype": "text/x-python",
   "name": "python",
   "nbconvert_exporter": "python",
   "pygments_lexer": "ipython3",
   "version": "3.7.7"
  }
 },
 "nbformat": 4,
 "nbformat_minor": 5
}